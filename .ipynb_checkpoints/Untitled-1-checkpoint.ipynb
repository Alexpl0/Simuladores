{
 "cells": [
  {
   "cell_type": "markdown",
   "id": "9b05c07d",
   "metadata": {},
   "source": [
    "# Descripción General del Programa\n",
    "El programa tiene como propósito simular la ejecución de procesos en un procesador utilizando hilos y una interfaz gráfica basada en tkinter. Permite visualizar el progreso de los procesos en tiempo real, gestionar estados y analizar tiempos estimados y reales de ejecución."
   ]
  },
  {
   "cell_type": "markdown",
   "id": "7d782ffb",
   "metadata": {},
   "source": [
    "# Estructura de Clases\n",
    "El programa está compuesto principalmente por dos clases:\n",
    "\n",
    "1. **Clase Proceso**:\n",
    "   - Representa un proceso individual con atributos como `id`, `prioridad`, `tiempo_ejecucion`, `ciclo_ejecucion`, y estados (`Nuevo`, `Listo`, `Ejecutando`, `Bloqueado`, `Terminado`).\n",
    "   - Métodos principales:\n",
    "     - `__init__`: Inicializa los atributos del proceso.\n",
    "     - `simular_proceso`: Simula el ciclo de vida completo del proceso.\n",
    "\n",
    "2. **Clase SimuladorProcesador**:\n",
    "   - Gestiona la simulación de múltiples procesos.\n",
    "   - Atributos principales:\n",
    "     - `procesos`: Lista de procesos a simular.\n",
    "     - `lock_ejecucion`: Controla el acceso concurrente a los estados.\n",
    "     - `pausa_event`: Permite pausar y reanudar la simulación.\n",
    "   - Métodos principales:\n",
    "     - `crear_procesos`: Genera procesos con características aleatorias.\n",
    "     - `iniciar_simulacion`: Inicia la simulación.\n",
    "     - `pausar_simulacion`: Pausa la simulación.\n",
    "     - `continuar_simulacion`: Reanuda la simulación."
   ]
  },
  {
   "cell_type": "markdown",
   "id": "3aab4520",
   "metadata": {},
   "source": [
    "# Funciones Principales\n",
    "A continuación, se describen las funciones clave del programa:\n",
    "\n",
    "1. **iniciar_simulacion**:\n",
    "   - Inicia la simulación de procesos en hilos separados.\n",
    "   - Crea la representación visual de los procesos en la interfaz gráfica.\n",
    "\n",
    "2. **pausar_simulacion**:\n",
    "   - Detiene temporalmente la ejecución de los hilos.\n",
    "   - Actualiza la interfaz gráfica para reflejar el estado pausado.\n",
    "\n",
    "3. **continuar_simulacion**:\n",
    "   - Reanuda la ejecución de los hilos pausados.\n",
    "   - Actualiza la interfaz gráfica para reflejar el estado en ejecución.\n",
    "\n",
    "4. **actualizar_grafica**:\n",
    "   - Genera gráficas en tiempo real para mostrar el progreso de los procesos.\n",
    "   - Utiliza matplotlib para visualizar tiempos estimados y reales."
   ]
  },
  {
   "cell_type": "markdown",
   "id": "dfbe302e",
   "metadata": {},
   "source": [
    "# Interfaz Gráfica\n",
    "El programa utiliza tkinter para crear una interfaz gráfica interactiva. Los elementos principales incluyen:\n",
    "\n",
    "- **Botones**:\n",
    "  - `Iniciar Simulación`: Comienza la simulación.\n",
    "  - `Pausar Simulación`: Detiene temporalmente la simulación.\n",
    "  - `Continuar Simulación`: Reanuda la simulación.\n",
    "\n",
    "- **Etiquetas y Barras de Progreso**:\n",
    "  - Muestran el estado actual de cada proceso.\n",
    "  - Las barras de progreso indican el avance de los procesos.\n",
    "\n",
    "- **Gráfica**:\n",
    "  - Integra matplotlib para mostrar el progreso de los procesos en tiempo real."
   ]
  },
  {
   "cell_type": "markdown",
   "id": "22702881",
   "metadata": {},
   "source": [
    "# Simulación de Procesos\n",
    "El ciclo de vida de un proceso incluye los siguientes estados:\n",
    "\n",
    "1. **Nuevo**: El proceso se crea y se inicializa.\n",
    "2. **Listo**: El proceso está preparado para ejecutarse.\n",
    "3. **Ejecutando**: El proceso está en ejecución activa.\n",
    "4. **Bloqueado**: El proceso está temporalmente detenido.\n",
    "5. **Terminado**: El proceso ha completado su ejecución.\n",
    "\n",
    "La simulación utiliza hilos para ejecutar múltiples procesos de manera concurrente. Cada proceso alterna entre los estados `Ejecutando` y `Bloqueado` hasta completar su ciclo de vida."
   ]
  },
  {
   "cell_type": "markdown",
   "id": "22658de7",
   "metadata": {},
   "source": [
    "# Gráficas y Visualización\n",
    "El programa utiliza matplotlib para generar gráficas en tiempo real que muestran:\n",
    "\n",
    "- **Tiempos Estimados**: Representados en barras de color azul claro.\n",
    "- **Tiempos Reales**: Representados en barras de color azul oscuro.\n",
    "\n",
    "Las gráficas incluyen:\n",
    "- Etiquetas de los tiempos encima de las barras.\n",
    "- Leyendas para identificar los tiempos estimados y reales.\n",
    "- Cuadrículas para mejorar la legibilidad."
   ]
  },
  {
   "cell_type": "markdown",
   "id": "0a21396e",
   "metadata": {},
   "source": [
    "# Manejo de Estados\n",
    "Los estados de los procesos se gestionan mediante un diccionario en la clase `Proceso`. Los estados se actualizan dinámicamente durante la simulación y se reflejan en la interfaz gráfica. Esto incluye:\n",
    "\n",
    "- Cambios de estado (`Nuevo`, `Listo`, `Ejecutando`, etc.).\n",
    "- Actualización de etiquetas y barras de progreso en tiempo real."
   ]
  },
  {
   "cell_type": "markdown",
   "id": "699bbd8d",
   "metadata": {},
   "source": [
    "# Pausar y Continuar la Simulación\n",
    "La funcionalidad de pausar y continuar la simulación se implementa utilizando `threading.Event`. \n",
    "\n",
    "- **Pausar**:\n",
    "  - Detiene temporalmente los hilos en ejecución.\n",
    "  - Actualiza la interfaz gráfica para mostrar el estado pausado.\n",
    "\n",
    "- **Continuar**:\n",
    "  - Reanuda la ejecución de los hilos pausados.\n",
    "  - Actualiza la interfaz gráfica para reflejar el estado en ejecución."
   ]
  },
  {
   "cell_type": "markdown",
   "id": "5fff7893",
   "metadata": {},
   "source": [
    "# Resultados Finales\n",
    "Al finalizar la simulación, los resultados se muestran en una tabla creada con `ttk.Treeview`. La tabla incluye:\n",
    "\n",
    "- **ID del Proceso**: Identificador único.\n",
    "- **Ciclos Realizados**: Número de ciclos completados.\n",
    "- **Tiempo Estimado**: Tiempo total estimado de ejecución.\n",
    "- **Tiempo Real**: Tiempo real acumulado durante la ejecución.\n",
    "\n",
    "La tabla se muestra automáticamente cuando todos los procesos han terminado."
   ]
  }
 ],
 "metadata": {
  "language_info": {
   "name": "python"
  }
 },
 "nbformat": 4,
 "nbformat_minor": 5
}
